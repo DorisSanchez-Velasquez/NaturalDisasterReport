{
 "cells": [
  {
   "attachments": {},
   "cell_type": "markdown",
   "metadata": {},
   "source": [
    "IMPORTS"
   ]
  },
  {
   "cell_type": "code",
   "execution_count": null,
   "metadata": {
    "vscode": {
     "languageId": "plaintext"
    }
   },
   "outputs": [],
   "source": [
    "#LIBRARY IMPORTS\n",
    "import pandas as pd\n",
    "import numpy as np\n",
    "import seaborn as sns\n",
    "from sklearn import preprocessing as prep"
   ]
  },
  {
   "attachments": {},
   "cell_type": "markdown",
   "metadata": {},
   "source": [
    "Reformatting Dataset"
   ]
  },
  {
   "cell_type": "code",
   "execution_count": null,
   "metadata": {
    "vscode": {
     "languageId": "plaintext"
    }
   },
   "outputs": [],
   "source": [
    "#COMBINING ALL THE STORM DETAILS FROM THE YEARS 2007 - 2022\n",
    "#Read first dataset file from 2007\n",
    "NaturalDisaster_Data = pd.read_csv(\"./Storm Dataset/StormDetails2007.csv\")\n",
    "\n",
    "#Iterate through all the Storm Details years and combine datasets to create one single large one\n",
    "for year in range(2007, 2023):\n",
    "    currentYear_Data = pd.read_csv(f\"./Storm Dataset/StormDetails{year}.csv\")\n",
    "    NaturalDisaster_Data = pd.concat([NaturalDisaster_Data, currentYear_Data])"
   ]
  },
  {
   "cell_type": "code",
   "execution_count": null,
   "metadata": {
    "vscode": {
     "languageId": "plaintext"
    }
   },
   "outputs": [],
   "source": [
    "#Only limit the natural disaster to a subset to measure only Tornadoes (size = 23,580)\n",
    "NaturalDisaster_Data = NaturalDisaster_Data.loc[NaturalDisaster_Data['EVENT_TYPE'] == \"Tornado\"]"
   ]
  },
  {
   "cell_type": "markdown",
   "metadata": {},
   "source": []
  }
 ],
 "metadata": {
  "language_info": {
   "name": "python"
  },
  "orig_nbformat": 4
 },
 "nbformat": 4,
 "nbformat_minor": 2
}
