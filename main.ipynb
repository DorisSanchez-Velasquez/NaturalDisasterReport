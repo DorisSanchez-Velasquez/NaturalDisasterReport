{
 "cells": [
  {
   "attachments": {},
   "cell_type": "markdown",
   "metadata": {},
   "source": [
    "## REFORMAT DATASET\n",
    "Reformatting the layout of the overall dataset in terms of column information, tupled statsitical data, and identifying the null values."
   ]
  },
  {
   "cell_type": "code",
   "execution_count": null,
   "metadata": {},
   "outputs": [],
   "source": [
    "##Importing Libraries For Exploration\n",
    "import pandas as pd\n",
    "\n",
    "EnvImpact_Data = pd.read_csv(\"./CorporateEnvImpact_Dataset.csv\")\n",
    "EnvImpact_Data.head(5)"
   ]
  }
 ],
 "metadata": {
  "kernelspec": {
   "display_name": "Python 3",
   "language": "python",
   "name": "python3"
  },
  "language_info": {
   "codemirror_mode": {
    "name": "ipython",
    "version": 3
   },
   "file_extension": ".py",
   "mimetype": "text/x-python",
   "name": "python",
   "nbconvert_exporter": "python",
   "pygments_lexer": "ipython3",
   "version": "3.9.6"
  },
  "orig_nbformat": 4
 },
 "nbformat": 4,
 "nbformat_minor": 2
}
