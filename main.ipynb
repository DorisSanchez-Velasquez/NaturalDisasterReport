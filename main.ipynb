{
 "cells": [
  {
   "attachments": {},
   "cell_type": "markdown",
   "metadata": {},
   "source": [
    "## REFORMAT DATASET\n",
    "Reformatting the layout of the overall dataset in terms of column information, tupled statsitical data, and identifying the null values."
   ]
  },
  {
   "cell_type": "code",
   "execution_count": 4,
   "metadata": {},
   "outputs": [
    {
     "name": "stderr",
     "output_type": "stream",
     "text": [
      "C:\\Users\\doris\\AppData\\Local\\Temp/ipykernel_6424/3893756319.py:9: FutureWarning: The frame.append method is deprecated and will be removed from pandas in a future version. Use pandas.concat instead.\n",
      "  NaturalDisaster_Data.append(currentYear_Data, ignore_index = True)\n",
      "C:\\Users\\doris\\AppData\\Local\\Temp/ipykernel_6424/3893756319.py:9: FutureWarning: The frame.append method is deprecated and will be removed from pandas in a future version. Use pandas.concat instead.\n",
      "  NaturalDisaster_Data.append(currentYear_Data, ignore_index = True)\n",
      "C:\\Users\\doris\\AppData\\Local\\Temp/ipykernel_6424/3893756319.py:9: FutureWarning: The frame.append method is deprecated and will be removed from pandas in a future version. Use pandas.concat instead.\n",
      "  NaturalDisaster_Data.append(currentYear_Data, ignore_index = True)\n",
      "C:\\Users\\doris\\AppData\\Local\\Temp/ipykernel_6424/3893756319.py:9: FutureWarning: The frame.append method is deprecated and will be removed from pandas in a future version. Use pandas.concat instead.\n",
      "  NaturalDisaster_Data.append(currentYear_Data, ignore_index = True)\n",
      "C:\\Users\\doris\\AppData\\Local\\Temp/ipykernel_6424/3893756319.py:9: FutureWarning: The frame.append method is deprecated and will be removed from pandas in a future version. Use pandas.concat instead.\n",
      "  NaturalDisaster_Data.append(currentYear_Data, ignore_index = True)\n",
      "C:\\Users\\doris\\AppData\\Local\\Temp/ipykernel_6424/3893756319.py:9: FutureWarning: The frame.append method is deprecated and will be removed from pandas in a future version. Use pandas.concat instead.\n",
      "  NaturalDisaster_Data.append(currentYear_Data, ignore_index = True)\n",
      "C:\\Users\\doris\\AppData\\Local\\Temp/ipykernel_6424/3893756319.py:9: FutureWarning: The frame.append method is deprecated and will be removed from pandas in a future version. Use pandas.concat instead.\n",
      "  NaturalDisaster_Data.append(currentYear_Data, ignore_index = True)\n",
      "C:\\Users\\doris\\AppData\\Local\\Temp/ipykernel_6424/3893756319.py:9: FutureWarning: The frame.append method is deprecated and will be removed from pandas in a future version. Use pandas.concat instead.\n",
      "  NaturalDisaster_Data.append(currentYear_Data, ignore_index = True)\n",
      "C:\\Users\\doris\\AppData\\Local\\Temp/ipykernel_6424/3893756319.py:9: FutureWarning: The frame.append method is deprecated and will be removed from pandas in a future version. Use pandas.concat instead.\n",
      "  NaturalDisaster_Data.append(currentYear_Data, ignore_index = True)\n",
      "C:\\Users\\doris\\AppData\\Local\\Temp/ipykernel_6424/3893756319.py:9: FutureWarning: The frame.append method is deprecated and will be removed from pandas in a future version. Use pandas.concat instead.\n",
      "  NaturalDisaster_Data.append(currentYear_Data, ignore_index = True)\n",
      "C:\\Users\\doris\\AppData\\Local\\Temp/ipykernel_6424/3893756319.py:9: FutureWarning: The frame.append method is deprecated and will be removed from pandas in a future version. Use pandas.concat instead.\n",
      "  NaturalDisaster_Data.append(currentYear_Data, ignore_index = True)\n",
      "C:\\Users\\doris\\AppData\\Local\\Temp/ipykernel_6424/3893756319.py:9: FutureWarning: The frame.append method is deprecated and will be removed from pandas in a future version. Use pandas.concat instead.\n",
      "  NaturalDisaster_Data.append(currentYear_Data, ignore_index = True)\n",
      "C:\\Users\\doris\\AppData\\Local\\Temp/ipykernel_6424/3893756319.py:9: FutureWarning: The frame.append method is deprecated and will be removed from pandas in a future version. Use pandas.concat instead.\n",
      "  NaturalDisaster_Data.append(currentYear_Data, ignore_index = True)\n",
      "C:\\Users\\doris\\AppData\\Local\\Temp/ipykernel_6424/3893756319.py:9: FutureWarning: The frame.append method is deprecated and will be removed from pandas in a future version. Use pandas.concat instead.\n",
      "  NaturalDisaster_Data.append(currentYear_Data, ignore_index = True)\n",
      "C:\\Users\\doris\\AppData\\Local\\Temp/ipykernel_6424/3893756319.py:9: FutureWarning: The frame.append method is deprecated and will be removed from pandas in a future version. Use pandas.concat instead.\n",
      "  NaturalDisaster_Data.append(currentYear_Data, ignore_index = True)\n",
      "C:\\Users\\doris\\AppData\\Local\\Temp/ipykernel_6424/3893756319.py:9: FutureWarning: The frame.append method is deprecated and will be removed from pandas in a future version. Use pandas.concat instead.\n",
      "  NaturalDisaster_Data.append(currentYear_Data, ignore_index = True)\n"
     ]
    }
   ],
   "source": [
    "##Importing Libraries For Exploration\n",
    "import pandas as pd\n",
    "\n",
    "NaturalDisaster_Data = pd.read_csv(\"./Storm Dataset/StormDetails2007.csv\")\n",
    "\n",
    "#Iterate through all the Storm Details years and combine datasets to create one single large one\n",
    "for year in range(2007, 2023):\n",
    "    currentYear_Data = pd.read_csv(f\"./Storm Dataset/StormDetails{year}.csv\")\n",
    "    NaturalDisaster_Data.append(currentYear_Data, ignore_index = True)\n",
    "\n"
   ]
  },
  {
   "cell_type": "code",
   "execution_count": 7,
   "metadata": {},
   "outputs": [
    {
     "data": {
      "text/plain": [
       "59010"
      ]
     },
     "execution_count": 7,
     "metadata": {},
     "output_type": "execute_result"
    }
   ],
   "source": [
    "len(NaturalDisaster_Data)"
   ]
  }
 ],
 "metadata": {
  "kernelspec": {
   "display_name": "Python 3",
   "language": "python",
   "name": "python3"
  },
  "language_info": {
   "codemirror_mode": {
    "name": "ipython",
    "version": 3
   },
   "file_extension": ".py",
   "mimetype": "text/x-python",
   "name": "python",
   "nbconvert_exporter": "python",
   "pygments_lexer": "ipython3",
   "version": "3.9.6"
  },
  "orig_nbformat": 4
 },
 "nbformat": 4,
 "nbformat_minor": 2
}
